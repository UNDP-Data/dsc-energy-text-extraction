{
 "cells": [
  {
   "cell_type": "code",
   "execution_count": null,
   "id": "d2ef16b5",
   "metadata": {},
   "outputs": [],
   "source": [
    "#Import libraries\n",
    "\n",
    "import pandas as pd\n",
    "from bs4 import BeautifulSoup\n",
    "import re\n"
   ]
  },
  {
   "cell_type": "code",
   "execution_count": null,
   "id": "3995a97c",
   "metadata": {},
   "outputs": [],
   "source": [
    "#Load Metadata CSV\n",
    "\n",
    "metadata_df = pd.read_csv('../01_Input/00_Metadata/Energy Document Metadata.csv')\n"
   ]
  },
  {
   "cell_type": "code",
   "execution_count": null,
   "id": "9d949196",
   "metadata": {},
   "outputs": [],
   "source": [
    "#Download missing documents\n",
    "\n",
    "def download_document(url):\n",
    "    # Code to download the document from the URL\n",
    "    # Handle different formats (PDF, HTML, etc.)\n",
    "    return document_content\n"
   ]
  },
  {
   "cell_type": "code",
   "execution_count": null,
   "id": "486e20f1",
   "metadata": {},
   "outputs": [],
   "source": [
    "#Extracting text from document\n",
    "\n",
    "def extract_text(document):\n",
    "    # Extract text depending on document format\n",
    "    # Use libraries like PyPDF2 for PDF, BeautifulSoup for HTML, etc.\n",
    "    return extracted_text\n",
    " "
   ]
  },
  {
   "cell_type": "code",
   "execution_count": null,
   "id": "3bd51ca6",
   "metadata": {},
   "outputs": [],
   "source": [
    "#Text cleaning \n",
    "\n",
    "def clean_text(text):\n",
    "    # Remove unwanted characters, whitespace, etc.\n",
    "    # Regular expressions can be helpful here\n",
    "    # Additional cleaning steps as required\n",
    "    return cleaned_text\n"
   ]
  },
  {
   "cell_type": "code",
   "execution_count": null,
   "id": "194cf382",
   "metadata": {},
   "outputs": [],
   "source": [
    "#Process documents  - Iterate over each row, download the document if it isn't already, extract and clean the text.\n",
    "\n",
    "def process_documents(metadata_df):\n",
    "    for index, row in metadata_df.iterrows():\n",
    "        url = row['document_link']\n",
    "        document = download_document(url)\n",
    "        extracted_text = extract_text(document)\n",
    "        cleaned_text = clean_text(extracted_text)\n",
    "        \n",
    "        #save extracted_text to /02_Output/00_Extracted-Text/\n"
   ]
  },
  {
   "cell_type": "code",
   "execution_count": null,
   "id": "b3eca00f",
   "metadata": {},
   "outputs": [],
   "source": [
    "#Run the processing function\n",
    "\n",
    "process_documents(metadata_df)"
   ]
  },
  {
   "cell_type": "code",
   "execution_count": null,
   "id": "d4a1d2a1",
   "metadata": {},
   "outputs": [],
   "source": []
  }
 ],
 "metadata": {
  "kernelspec": {
   "display_name": "Python 3 (ipykernel)",
   "language": "python",
   "name": "python3"
  },
  "language_info": {
   "codemirror_mode": {
    "name": "ipython",
    "version": 3
   },
   "file_extension": ".py",
   "mimetype": "text/x-python",
   "name": "python",
   "nbconvert_exporter": "python",
   "pygments_lexer": "ipython3",
   "version": "3.10.6"
  }
 },
 "nbformat": 4,
 "nbformat_minor": 5
}
